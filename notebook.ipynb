{
 "cells": [
  {
   "cell_type": "code",
   "execution_count": 11,
   "metadata": {},
   "outputs": [],
   "source": [
    "from langchain.chat_models import ChatOpenAI\n",
    "from langchain.schema import HumanMessage, AIMessage, SystemMessage\n",
    "from langchain.prompts import PromptTemplate, ChatPromptTemplate\n",
    "from langchain.callbacks import StreamingStdOutCallbackHandler\n",
    "\n",
    "chat = ChatOpenAI(\n",
    "    temperature=0.1,\n",
    "    streaming=True,\n",
    "    callbacks=[StreamingStdOutCallbackHandler(),]\n",
    "    )"
   ]
  },
  {
   "cell_type": "code",
   "execution_count": 13,
   "metadata": {},
   "outputs": [
    {
     "data": {
      "text/plain": [
       "'행성은 태양계의 중심에 위치한 별인 태양 주위를 공전하는 천체를 말합니다. 태양계의 행성은 수성, 금성, 지구, 화성, 목성, 토성, 천왕성, 해왕성 등 여러 개가 있습니다.\\n\\n행성은 다른 천체와는 달리 자기 중력으로 둘러싸인 구 형태를 가지고 있습니다. 또한, 태양 주위를 공전하면서 자기 주위를 돌면서 스스로 빛을 내지 않고 태양으로부터 받은 빛을 반사하여 밝게 보입니다.\\n\\n행성은 다양한 특징을 가지고 있습니다. 예를 들어, 수성은 태양에 가장 가까워서 매우 뜨거우며, 금성은 이산화탄소로 인해 뜨거운 온도와 두꺼운 대기를 가지고 있습니다. 지구는 생명체가 서식하는 유일한 행성으로 알려져 있으며, 화성은 지구와 비슷한 특징을 가지고 있어 인류의 관심을 받고 있습니다. 목성과 토성은 가스 행성으로 알려져 있으며, 천왕성과 해왕성은 얼음과 가스로 이루어진 외계 행성으로 알려져 있습니다.\\n\\n행성은 우주 탐사와 천문학 연구에 많은 정보를 제공하고 있습니다. 우주 탐사선을 통해 행성의 표면 조건, 대기, 자기장 등을 조사하고, 망원경을 통해 행성의 구조와 움직임을 관찰하고 있습니다. 이러한 연구를 통해 우리는 우주의 기원과 우리 자신의 위치를 이해하는 데 도움을 얻고 있습니다.'"
      ]
     },
     "execution_count": 13,
     "metadata": {},
     "output_type": "execute_result"
    }
   ],
   "source": [
    "response = chat.predict(\"행성에 대해서 설명해줘\")\n",
    "\n",
    "response"
   ]
  },
  {
   "cell_type": "code",
   "execution_count": 15,
   "metadata": {},
   "outputs": [],
   "source": [
    "template = PromptTemplate.from_template(\"{placeholder_a}의 {placeholder_b}에 대해 설명해줘\",)\n",
    "prompt = template.format(placeholder_a=\"태양계\", placeholder_b=\"행성\")\n",
    "\n",
    "chat.predict(prompt)"
   ]
  },
  {
   "cell_type": "code",
   "execution_count": 8,
   "metadata": {},
   "outputs": [
    {
     "data": {
      "text/plain": [
       "AIMessage(content='생성형 AI를 이용하여 앱을 만드는 방법은 다음과 같습니다:\\n\\n1. 데이터 수집: 앱을 위한 데이터를 수집해야 합니다. 예를 들어, 텍스트 기반의 AI 앱을 만들고 싶다면, 텍스트 데이터를 수집해야 합니다. 이 데이터는 AI 모델을 학습시키는 데 사용됩니다.\\n\\n2. 데이터 전처리: 수집한 데이터를 전처리하여 AI 모델에 적합한 형식으로 변환해야 합니다. 이 단계에서는 텍스트 데이터를 토큰화하고 벡터화하는 등의 작업을 수행합니다.\\n\\n3. AI 모델 개발: 전처리된 데이터를 사용하여 AI 모델을 개발합니다. 이 단계에서는 주로 딥러닝 알고리즘을 사용하여 모델을 구축합니다. 예를 들어, 자연어 처리를 위한 LSTM 또는 Transformer 모델을 사용할 수 있습니다.\\n\\n4. 모델 학습: AI 모델을 학습시킵니다. 이 단계에서는 전처리된 데이터를 사용하여 모델을 학습시키고 최적의 가중치를 찾습니다. 학습 알고리즘은 데이터에 따라 다를 수 있습니다.\\n\\n5. 앱 통합: 학습된 AI 모델을 앱에 통합합니다. 이 단계에서는 모델을 앱의 백엔드 또는 클라우드 서버에 배포하고, 앱에서 모델을 호출하여 사용자에게 결과를 제공합니다.\\n\\n6. 테스트 및 개선: 앱을 테스트하고 사용자 피드백을 수집하여 앱을 개선합니다. 이 단계에서는 AI 모델의 성능을 평가하고 필요한 경우 모델을 수정하여 정확성과 효율성을 향상시킬 수 있습니다.\\n\\n7. 배포: 앱을 배포하여 사용자들이 다운로드하고 사용할 수 있도록 합니다. 앱 스토어에 앱을 등록하거나, 웹 앱으로 배포하는 등의 방법을 사용할 수 있습니다.\\n\\n이러한 단계를 따라가면 생성형 AI를 이용하여 앱을 만들 수 있습니다. 하지만 AI 모델 개발과정은 복잡하고 전문적인 지식이 필요할 수 있으므로, 필요한 경우 AI 전문가나 개발자의 도움을 받는 것이 좋습니다.')"
      ]
     },
     "execution_count": 8,
     "metadata": {},
     "output_type": "execute_result"
    }
   ],
   "source": [
    "messages = [SystemMessage(content=\"당신은 AI 전문가 입니다. 답변은 한국어로 합니다.\",),\n",
    "            AIMessage(content=\"나는 샘 알트만 입니다.\",), \n",
    "            HumanMessage(content=\"생성형 AI를 이용해 앱을 만드는 방법에 대해 설명해줘\",),\n",
    "            ]\n",
    "\n",
    "chat.predict_messages(messages)"
   ]
  },
  {
   "cell_type": "code",
   "execution_count": 20,
   "metadata": {},
   "outputs": [
    {
     "data": {
      "text/plain": [
       "AIMessage(content='은하와 중심 블랙홀의 연결고리에 대해 설명해 드리겠습니다.\\n\\n은하는 수많은 별, 가스, 먼지 등으로 이루어진 천체 집합체입니다. 은하들은 중력에 의해 서로 끌리며, 그룹이나 군집을 형성할 수 있습니다. 이러한 은하들은 대부분 중심을 가지고 있는데, 이 중심은 대개 슈퍼매스 블랙홀로 알려져 있습니다.\\n\\n중심 블랙홀은 매우 질량이 크고 중력이 강한 블랙홀입니다. 은하의 중심에 위치하며, 은하의 질량과 구조에 큰 영향을 미칩니다. 중심 블랙홀은 은하 주변의 별들을 중력으로 인해 끌어들여 은하의 중심으로 모으는 역할을 합니다. 이러한 과정을 통해 은하는 중심 블랙홀 주변에 밀집된 별들로 이루어진 밀집한 영역을 형성하게 됩니다.\\n\\n중심 블랙홀은 은하의 진화와 성장에도 영향을 미칩니다. 은하는 중심 블랙홀로부터 에너지와 물질을 획득하여 성장하고, 중심 블랙홀의 질량도 이러한 과정에서 증가할 수 있습니다. 이러한 상호작용은 은하의 형태와 구조를 결정하며, 은하 진화의 핵심적인 요소 중 하나입니다.\\n\\n따라서, 은하와 중심 블랙홀은 서로 긴밀하게 연결되어 있으며, 중심 블랙홀은 은하의 형태와 진화에 큰 영향을 미치는 연결고리 역할을 합니다. 이러한 연결고리를 통해 우리는 은하의 형성과 진화에 대해 더 깊이 이해할 수 있습니다.')"
      ]
     },
     "execution_count": 20,
     "metadata": {},
     "output_type": "execute_result"
    }
   ],
   "source": [
    "template = ChatPromptTemplate.from_messages([\n",
    "    (\"system\", \"당신은 전문학자 입니다. 답변은 한국어로 합니다.\"),\n",
    "    (\"ai\", \"나는 한국의 저명한 천문학 교수 우종학 입니다.\"),\n",
    "    (\"human\", \"{placeholder_a}에 대해 설명해줘\")\n",
    "])\n",
    "\n",
    "prompt = template.format_messages(\n",
    "    language=\"Korean\",\n",
    "    placeholder_a=\"은하와 중심 블랙홀의 연결고리\",\n",
    ")\n",
    "\n",
    "chat.predict_messages(prompt)"
   ]
  },
  {
   "cell_type": "code",
   "execution_count": 6,
   "metadata": {},
   "outputs": [],
   "source": [
    "from langchain.schema import BaseOutputParser\n",
    "\n",
    "class CommonOutputParser(BaseOutputParser):\n",
    "\n",
    "    def parse(self, text):\n",
    "        items = text.strip().split(\",\")\n",
    "        return list(map(str.strip, items))"
   ]
  },
  {
   "cell_type": "code",
   "execution_count": 9,
   "metadata": {},
   "outputs": [
    {
     "data": {
      "text/plain": [
       "['수성', '금성', '지구', '화성', '목성', '토성', '천왕성', '해왕성']"
      ]
     },
     "execution_count": 9,
     "metadata": {},
     "output_type": "execute_result"
    }
   ],
   "source": [
    "template = ChatPromptTemplate.from_messages([\n",
    "    (\"system\", \"You are a list generating machine. Everything you are asked will be answered with a comma separated list of max {max_items} in lowercase. Do NOT reply with anything else.\"),\n",
    "    (\"human\", \"{question}\"),\n",
    "])\n",
    "\n",
    "chain = template | chat | CommonOutputParser()\n",
    "chain.invoke({\n",
    "    \"max_items\": 10,\n",
    "    \"question\": \"태양계의 행성들?\"\n",
    "})"
   ]
  },
  {
   "cell_type": "code",
   "execution_count": 15,
   "metadata": {},
   "outputs": [],
   "source": [
    "chef_prompt = ChatPromptTemplate.from_messages([\n",
    "    (\"system\", \"답변은 한국어로 합니다.\"),\n",
    "    (\"human\", \"I want to cook {cuisine} food.\")\n",
    "])\n",
    "\n",
    "chef_chain = chef_prompt | chat"
   ]
  },
  {
   "cell_type": "code",
   "execution_count": 14,
   "metadata": {},
   "outputs": [
    {
     "name": "stdout",
     "output_type": "stream",
     "text": [
      "인도 음식을 요리하고 싶으시군요! 인도 음식은 다양하고 맛있는 요리들이 많이 있습니다. 여러분이 원하는 음식에 따라 다양한 선택지가 있지만, 여기 몇 가지 대표적인 인도 음식을 소개해 드리겠습니다.\n",
      "\n",
      "1. 버터 치킨 (Butter Chicken): 부드러운 치킨 조각을 토마토 기반의 크림 소스에 넣어 조리한 요리입니다. 부드럽고 풍부한 맛이 특징이며, 네트마사라 (Naan)나 라이스와 함께 맛있게 즐길 수 있습니다.\n",
      "\n",
      "2. 카레 (Curry): 인도 음식의 대표적인 요리로, 다양한 종류의 카레가 있습니다. 야채, 고기, 해산물 등 다양한 재료를 사용하여 만들 수 있으며, 향신료와 허브의 조합으로 풍부한 맛을 내는 것이 특징입니다. 카레는 네트마사라나 라이스와 함께 먹을 수 있습니다.\n",
      "\n",
      "3. 사모사 (Samosa): 인도의 유명한 간식으로, 채소와 고기, 양파, 감자 등을 넣은 삼각형 모양의 튀김입니다. 사모사는 주로 간식으로 먹지만, 식사로도 즐길 수 있습니다.\n",
      "\n",
      "4. 바라타 (Bhatura): 인도의 유명한 빵 중 하나로, 네트마사라와 비슷한 모양이지만 조리 방법과 재료가 다릅니다. 바라타는 유지와 함께 먹을 때 가장 맛있게 즐길 수 있습니다.\n",
      "\n",
      "이 외에도 인도 음식에는 다양한 요리들이 있으니, 여러분의 취향에 맞는 음식을 선택하여 즐겨보시기 바랍니다. 요리하는 과정에서 어려움이 있다면, 인터넷이나 요리 책에서 레시피를 찾아보시면 도움이 될 것입니다. 즐거운 인도 음식 요리를 즐기시길 바랍니다!인도 음식을 즐기시는데 도움이 되도록 대체 재료와 그들의 준비 방법을 알려드리겠습니다.\n",
      "\n",
      "1. 버터 치킨 (Butter Chicken):\n",
      "- 치킨: 대체 가능한 재료로는 대파, 버섯, 토피(두부) 등이 있습니다. 이들을 적절히 소금과 양념하여 튀겨내면 치킨의 대체재로 사용할 수 있습니다.\n",
      "- 크림 소스: 대체 가능한 재료로는 코코넛 밀크, 코코넛 크림, 콩 크림 등이 있습니다. 이들을 토마토 소스와 섞어 사용하면 유사한 크림 소스를 만들 수 있습니다.\n",
      "\n",
      "2. 카레 (Curry):\n",
      "- 고기: 대체 가능한 재료로는 대파, 버섯, 토피(두부), 콩, 렌틸 등이 있습니다. 이들을 적절히 소금과 양념하여 익히면 고기의 대체재로 사용할 수 있습니다.\n",
      "- 향신료와 허브: 대체 가능한 향신료로는 케이프라임 리프, 코리앤더 리프, 바질 등이 있습니다. 이들을 사용하여 향신료와 허브의 풍부한 맛을 내는 것을 시도해보세요.\n",
      "\n",
      "3. 사모사 (Samosa):\n",
      "- 고기: 대체 가능한 재료로는 대파, 버섯, 토피(두부), 감자 등이 있습니다. 이들을 적절히 소금과 양념하여 익힌 후 사모사의 대체재로 사용할 수 있습니다.\n",
      "\n",
      "4. 바라타 (Bhatura):\n",
      "- 대체 가능한 빵: 바라타는 특정한 조리 방법과 재료를 사용하기 때문에 대체할 수 있는 빵이 없습니다. 대신 다른 인도 빵인 네트마사라를 대신 사용할 수 있습니다.\n",
      "\n",
      "이 외에도 다른 인도 음식에 대한 대체 재료와 그들의 준비 방법을 알고 싶다면, 해당 음식의 구체적인 레시피를 찾아보시는 것이 좋습니다."
     ]
    },
    {
     "data": {
      "text/plain": [
       "AIMessageChunk(content='인도 음식을 즐기시는데 도움이 되도록 대체 재료와 그들의 준비 방법을 알려드리겠습니다.\\n\\n1. 버터 치킨 (Butter Chicken):\\n- 치킨: 대체 가능한 재료로는 대파, 버섯, 토피(두부) 등이 있습니다. 이들을 적절히 소금과 양념하여 튀겨내면 치킨의 대체재로 사용할 수 있습니다.\\n- 크림 소스: 대체 가능한 재료로는 코코넛 밀크, 코코넛 크림, 콩 크림 등이 있습니다. 이들을 토마토 소스와 섞어 사용하면 유사한 크림 소스를 만들 수 있습니다.\\n\\n2. 카레 (Curry):\\n- 고기: 대체 가능한 재료로는 대파, 버섯, 토피(두부), 콩, 렌틸 등이 있습니다. 이들을 적절히 소금과 양념하여 익히면 고기의 대체재로 사용할 수 있습니다.\\n- 향신료와 허브: 대체 가능한 향신료로는 케이프라임 리프, 코리앤더 리프, 바질 등이 있습니다. 이들을 사용하여 향신료와 허브의 풍부한 맛을 내는 것을 시도해보세요.\\n\\n3. 사모사 (Samosa):\\n- 고기: 대체 가능한 재료로는 대파, 버섯, 토피(두부), 감자 등이 있습니다. 이들을 적절히 소금과 양념하여 익힌 후 사모사의 대체재로 사용할 수 있습니다.\\n\\n4. 바라타 (Bhatura):\\n- 대체 가능한 빵: 바라타는 특정한 조리 방법과 재료를 사용하기 때문에 대체할 수 있는 빵이 없습니다. 대신 다른 인도 빵인 네트마사라를 대신 사용할 수 있습니다.\\n\\n이 외에도 다른 인도 음식에 대한 대체 재료와 그들의 준비 방법을 알고 싶다면, 해당 음식의 구체적인 레시피를 찾아보시는 것이 좋습니다.')"
      ]
     },
     "execution_count": 14,
     "metadata": {},
     "output_type": "execute_result"
    }
   ],
   "source": [
    "veg_chef_prompt = ChatPromptTemplate.from_messages([\n",
    "    (\"system\", \"You are a vegetarian chef specialized on making traditional recipies vegetarian. You find alternative ingredients and explain their preparation. You don't radically modify the recipe. If there is no alternative for a food just say you don't know how to replace it. 답변은 한국어로 합니다.\"),\n",
    "    (\"human\", \"{recipe}\")\n",
    "])\n",
    "\n",
    "veg_chef_chain = veg_chef_prompt | chat\n",
    "\n",
    "final_chain = {\"recipe\": chef_chain} | veg_chef_chain\n",
    "\n",
    "final_chain.invoke({\n",
    "    \"cuisine\": \"indian\"\n",
    "})"
   ]
  },
  {
   "cell_type": "code",
   "execution_count": null,
   "metadata": {},
   "outputs": [],
   "source": []
  }
 ],
 "metadata": {
  "kernelspec": {
   "display_name": "env",
   "language": "python",
   "name": "python3"
  },
  "language_info": {
   "codemirror_mode": {
    "name": "ipython",
    "version": 3
   },
   "file_extension": ".py",
   "mimetype": "text/x-python",
   "name": "python",
   "nbconvert_exporter": "python",
   "pygments_lexer": "ipython3",
   "version": "3.11.7"
  }
 },
 "nbformat": 4,
 "nbformat_minor": 2
}
