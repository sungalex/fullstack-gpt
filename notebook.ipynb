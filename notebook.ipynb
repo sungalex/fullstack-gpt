{
 "cells": [
  {
   "cell_type": "code",
   "execution_count": 9,
   "metadata": {},
   "outputs": [],
   "source": [
    "from langchain.chat_models import ChatOpenAI\n",
    "from langchain.schema import HumanMessage, AIMessage, SystemMessage\n",
    "from langchain.prompts import PromptTemplate, ChatPromptTemplate\n",
    "from langchain.callbacks import StreamingStdOutCallbackHandler\n",
    "\n",
    "chat = ChatOpenAI(\n",
    "    temperature=0.1,\n",
    "    streaming=True,\n",
    "    callbacks=[StreamingStdOutCallbackHandler(),]\n",
    "    )"
   ]
  },
  {
   "cell_type": "code",
   "execution_count": 10,
   "metadata": {},
   "outputs": [
    {
     "name": "stdout",
     "output_type": "stream",
     "text": [
      "안녕하세요! 저는 대화를 나누고 질문에 답변하는 것을 할 수 있습니다. 또한 일정, 날씨, 지식 등 다양한 주제에 대해 정보를 제공할 수 있습니다. 무엇을 도와드릴까요?"
     ]
    },
    {
     "data": {
      "text/plain": [
       "'안녕하세요! 저는 대화를 나누고 질문에 답변하는 것을 할 수 있습니다. 또한 일정, 날씨, 지식 등 다양한 주제에 대해 정보를 제공할 수 있습니다. 무엇을 도와드릴까요?'"
      ]
     },
     "execution_count": 10,
     "metadata": {},
     "output_type": "execute_result"
    }
   ],
   "source": [
    "response = chat.predict(\"안녕? 네가 무엇을 할수 있는지 설명해줘\")\n",
    "\n",
    "response"
   ]
  },
  {
   "cell_type": "code",
   "execution_count": 11,
   "metadata": {},
   "outputs": [
    {
     "name": "stdout",
     "output_type": "stream",
     "text": [
      "Langchain은 프로그래밍 언어를 사용하여 블록체인 기술을 활용할 수 있는 플랫폼입니다. Langchain을 사용하여 프로그래밍을 하려면 다음과 같은 단계를 따를 수 있습니다.\n",
      "\n",
      "1. Langchain 환경 설정: 먼저 Langchain을 설치하고 환경을 설정해야 합니다. Langchain은 다양한 프로그래밍 언어를 지원하므로 사용하고자 하는 언어에 맞게 환경을 설정해야 합니다.\n",
      "\n",
      "2. 스마트 계약 작성: Langchain을 사용하여 스마트 계약을 작성할 수 있습니다. 스마트 계약은 블록체인 상에서 실행되는 프로그램으로, 조건에 따라 자동으로 실행되는 기능을 수행할 수 있습니다.\n",
      "\n",
      "3. 스마트 계약 배포: 작성한 스마트 계약을 블록체인 상에 배포하여 실행할 수 있습니다. Langchain을 사용하면 간단한 명령어로 스마트 계약을 배포할 수 있습니다.\n",
      "\n",
      "4. 스마트 계약 실행: 배포한 스마트 계약을 실행하여 원하는 기능을 수행할 수 있습니다. Langchain을 사용하면 블록체인 상에서 스마트 계약을 실행하는 것이 간편해집니다.\n",
      "\n",
      "이처럼 Langchain을 사용하여 프로그래밍을 하면 블록체인 기술을 활용하여 다양한 기능을 구현할 수 있습니다. 또한 Langchain은 다양한 프로그래밍 언어를 지원하므로 사용자가 편리하게 프로그래밍을 할 수 있습니다."
     ]
    },
    {
     "data": {
      "text/plain": [
       "'Langchain은 프로그래밍 언어를 사용하여 블록체인 기술을 활용할 수 있는 플랫폼입니다. Langchain을 사용하여 프로그래밍을 하려면 다음과 같은 단계를 따를 수 있습니다.\\n\\n1. Langchain 환경 설정: 먼저 Langchain을 설치하고 환경을 설정해야 합니다. Langchain은 다양한 프로그래밍 언어를 지원하므로 사용하고자 하는 언어에 맞게 환경을 설정해야 합니다.\\n\\n2. 스마트 계약 작성: Langchain을 사용하여 스마트 계약을 작성할 수 있습니다. 스마트 계약은 블록체인 상에서 실행되는 프로그램으로, 조건에 따라 자동으로 실행되는 기능을 수행할 수 있습니다.\\n\\n3. 스마트 계약 배포: 작성한 스마트 계약을 블록체인 상에 배포하여 실행할 수 있습니다. Langchain을 사용하면 간단한 명령어로 스마트 계약을 배포할 수 있습니다.\\n\\n4. 스마트 계약 실행: 배포한 스마트 계약을 실행하여 원하는 기능을 수행할 수 있습니다. Langchain을 사용하면 블록체인 상에서 스마트 계약을 실행하는 것이 간편해집니다.\\n\\n이처럼 Langchain을 사용하여 프로그래밍을 하면 블록체인 기술을 활용하여 다양한 기능을 구현할 수 있습니다. 또한 Langchain은 다양한 프로그래밍 언어를 지원하므로 사용자가 편리하게 프로그래밍을 할 수 있습니다.'"
      ]
     },
     "execution_count": 11,
     "metadata": {},
     "output_type": "execute_result"
    }
   ],
   "source": [
    "template = PromptTemplate.from_template(\"{placeholder_a}를 이용하여 {placeholder_b} 하는 방법에 대해 설명해줘\",)\n",
    "prompt = template.format(placeholder_a=\"langchain\", placeholder_b=\"프로그래밍\")\n",
    "\n",
    "chat.predict(prompt)"
   ]
  },
  {
   "cell_type": "code",
   "execution_count": 12,
   "metadata": {},
   "outputs": [
    {
     "name": "stdout",
     "output_type": "stream",
     "text": [
      "생성형 AI를 이용해 앱을 만드는 방법은 다음과 같습니다.\n",
      "\n",
      "1. 데이터 수집: 먼저 AI 모델을 학습시킬 데이터를 수집합니다. 이 데이터는 사용자의 입력과 모델이 예측해야 할 출력에 관련된 정보를 포함해야 합니다.\n",
      "\n",
      "2. 모델 선택: 생성형 AI 모델 중에서 적합한 모델을 선택합니다. 대표적인 생성형 AI 모델로는 GPT-3, GPT-2, BERT 등이 있습니다.\n",
      "\n",
      "3. 모델 학습: 선택한 AI 모델을 학습시킵니다. 이때, 충분한 양의 데이터와 적절한 하이퍼파라미터 설정이 중요합니다.\n",
      "\n",
      "4. 앱 통합: 학습된 AI 모델을 이용하여 앱을 개발하고 통합합니다. 이때, API를 통해 모델을 호출하거나 모바일 앱 내에 모델을 내장시킬 수 있습니다.\n",
      "\n",
      "5. 테스트 및 배포: 개발한 앱을 테스트하고 사용자들에게 배포합니다. 사용자들의 피드백을 수집하여 모델을 개선하고 앱을 업데이트할 수 있습니다.\n",
      "\n",
      "이러한 과정을 거쳐 생성형 AI를 이용한 앱을 만들 수 있습니다."
     ]
    },
    {
     "data": {
      "text/plain": [
       "AIMessageChunk(content='생성형 AI를 이용해 앱을 만드는 방법은 다음과 같습니다.\\n\\n1. 데이터 수집: 먼저 AI 모델을 학습시킬 데이터를 수집합니다. 이 데이터는 사용자의 입력과 모델이 예측해야 할 출력에 관련된 정보를 포함해야 합니다.\\n\\n2. 모델 선택: 생성형 AI 모델 중에서 적합한 모델을 선택합니다. 대표적인 생성형 AI 모델로는 GPT-3, GPT-2, BERT 등이 있습니다.\\n\\n3. 모델 학습: 선택한 AI 모델을 학습시킵니다. 이때, 충분한 양의 데이터와 적절한 하이퍼파라미터 설정이 중요합니다.\\n\\n4. 앱 통합: 학습된 AI 모델을 이용하여 앱을 개발하고 통합합니다. 이때, API를 통해 모델을 호출하거나 모바일 앱 내에 모델을 내장시킬 수 있습니다.\\n\\n5. 테스트 및 배포: 개발한 앱을 테스트하고 사용자들에게 배포합니다. 사용자들의 피드백을 수집하여 모델을 개선하고 앱을 업데이트할 수 있습니다.\\n\\n이러한 과정을 거쳐 생성형 AI를 이용한 앱을 만들 수 있습니다.')"
      ]
     },
     "execution_count": 12,
     "metadata": {},
     "output_type": "execute_result"
    }
   ],
   "source": [
    "messages = [SystemMessage(content=\"당신은 AI 전문가 입니다. 답변은 한국어로 합니다.\",),\n",
    "            AIMessage(content=\"나는 샘 알트만 입니다.\",), \n",
    "            HumanMessage(content=\"생성형 AI를 이용해 앱을 만드는 방법에 대해 설명해줘\",),\n",
    "            ]\n",
    "\n",
    "chat.predict_messages(messages)"
   ]
  },
  {
   "cell_type": "code",
   "execution_count": 13,
   "metadata": {},
   "outputs": [
    {
     "name": "stdout",
     "output_type": "stream",
     "text": [
      "은하는 별, 가스, 먼지 등으로 이루어진 천체 집단으로, 수십만 개에서 수조 개의 별들이 모여 있는 천체를 말합니다. 은하는 중심에 중심 블랙홀이 존재할 수 있습니다. 중심 블랙홀은 엄청난 질량을 가진 블랙홀로, 주변의 별들을 중심으로 회전하며 은하 전체의 형성과 진화에 영향을 미칩니다. 중심 블랙홀은 은하의 중심에 위치하고 있으며, 그 질량과 중력은 은하 전체를 통제하고 있습니다. 이러한 중심 블랙홀은 은하의 형태와 운동에 중요한 역할을 합니다."
     ]
    },
    {
     "data": {
      "text/plain": [
       "AIMessageChunk(content='은하는 별, 가스, 먼지 등으로 이루어진 천체 집단으로, 수십만 개에서 수조 개의 별들이 모여 있는 천체를 말합니다. 은하는 중심에 중심 블랙홀이 존재할 수 있습니다. 중심 블랙홀은 엄청난 질량을 가진 블랙홀로, 주변의 별들을 중심으로 회전하며 은하 전체의 형성과 진화에 영향을 미칩니다. 중심 블랙홀은 은하의 중심에 위치하고 있으며, 그 질량과 중력은 은하 전체를 통제하고 있습니다. 이러한 중심 블랙홀은 은하의 형태와 운동에 중요한 역할을 합니다.')"
      ]
     },
     "execution_count": 13,
     "metadata": {},
     "output_type": "execute_result"
    }
   ],
   "source": [
    "template = ChatPromptTemplate.from_messages([\n",
    "    (\"system\", \"당신은 전문학자 입니다. 답변은 한국어로 합니다.\"),\n",
    "    (\"ai\", \"나는 한국의 저명한 천문학 교수 우종학 입니다.\"),\n",
    "    (\"human\", \"{placeholder_a}에 대해 설명해줘\")\n",
    "])\n",
    "\n",
    "prompt = template.format_messages(\n",
    "    language=\"Korean\",\n",
    "    placeholder_a=\"은하와 중심 블랙홀\",\n",
    ")\n",
    "\n",
    "chat.predict_messages(prompt)"
   ]
  },
  {
   "cell_type": "code",
   "execution_count": 14,
   "metadata": {},
   "outputs": [],
   "source": [
    "from langchain.schema import BaseOutputParser\n",
    "\n",
    "class CommonOutputParser(BaseOutputParser):\n",
    "\n",
    "    def parse(self, text):\n",
    "        items = text.strip().split(\",\")\n",
    "        return list(map(str.strip, items))"
   ]
  },
  {
   "cell_type": "code",
   "execution_count": 15,
   "metadata": {},
   "outputs": [
    {
     "name": "stdout",
     "output_type": "stream",
     "text": [
      "수성, 금성, 지구, 화성, 목성, 토성, 천왕성, 해왕성"
     ]
    },
    {
     "data": {
      "text/plain": [
       "['수성', '금성', '지구', '화성', '목성', '토성', '천왕성', '해왕성']"
      ]
     },
     "execution_count": 15,
     "metadata": {},
     "output_type": "execute_result"
    }
   ],
   "source": [
    "template = ChatPromptTemplate.from_messages([\n",
    "    (\"system\", \"You are a list generating machine. Everything you are asked will be answered with a comma separated list of max {max_items} in lowercase. Do NOT reply with anything else.\"),\n",
    "    (\"human\", \"{question}\"),\n",
    "])\n",
    "\n",
    "chain = template | chat | CommonOutputParser()\n",
    "chain.invoke({\n",
    "    \"max_items\": 10,\n",
    "    \"question\": \"태양계의 행성들에 대해 설명해줘\"\n",
    "})"
   ]
  },
  {
   "cell_type": "code",
   "execution_count": 16,
   "metadata": {},
   "outputs": [],
   "source": [
    "chef_prompt = ChatPromptTemplate.from_messages([\n",
    "    (\"system\", \"답변은 한국어로 합니다.\"),\n",
    "    (\"human\", \"I want to cook {cuisine} food.\")\n",
    "])\n",
    "\n",
    "chef_chain = chef_prompt | chat"
   ]
  },
  {
   "cell_type": "code",
   "execution_count": 18,
   "metadata": {},
   "outputs": [
    {
     "name": "stdout",
     "output_type": "stream",
     "text": [
      "인도 음식을 요리하고 싶다면, 가장 기본적인 재료와 조리법을 알아두는 것이 중요합니다. 인도 음식은 향신료를 다양하게 사용하고, 매운맛을 좋아하는 경향이 있습니다. \n",
      "\n",
      "가장 기본적인 인도 요리의 재료로는 고추, 생강, 마스터드 씨드, 코리앤더, 큐민, 고추가루, 고운 소금 등이 있습니다. 대표적인 인도 요리로는 카레, 달, 샹그리아, 난, 삼사 등이 있습니다.\n",
      "\n",
      "인도 요리를 만들 때는 재료를 잘 다듬어 준비하고, 향신료를 잘 섞어 조리하는 것이 중요합니다. 또한, 인도 요리의 특징 중 하나인 마리네이션(양념에 재료를 잠시 담가 향을 베어주는 과정)을 잘 활용하면 더 맛있는 요리를 만들 수 있습니다.\n",
      "\n",
      "인도 요리는 다양한 종류가 있으니 자신이 원하는 요리를 선택하여 도전해보시기 바랍니다. 요리를 즐기는 과정에서 새로운 맛과 경험을 만나보실 수 있을 것입니다. 좋은 요리 경험이 되시길 바랍니다!인도 음식을 즐기면서 채식주의자인 당신도 즐길 수 있는 대안 재료와 조리법을 알아보겠습니다.\n",
      "\n",
      "고추: 대신에 고추를 사용할 수 있는 대안은 고추 페이스트나 고추 분말입니다. 고추 페이스트는 신선한 고추를 갈아 만든 것이며, 고추 분말은 건조된 고추를 갈아 만든 것입니다. 양념의 매운맛을 조절하고 싶다면 조금씩 넣어가며 맛을 조절해보세요.\n",
      "\n",
      "생강: 생강의 대체재료로는 생강 가루나 생강 페이스트를 사용할 수 있습니다. 생강 가루는 건조된 생강을 갈아 만든 것이며, 생강 페이스트는 신선한 생강을 갈아 만든 것입니다. 양념에 풍미를 더해주는 역할을 합니다.\n",
      "\n",
      "마스터드 씨드: 마스터드 씨드 대신에 씨앗 중에는 셀러리 씨드나 피넛을 사용할 수 있습니다. 셀러리 씨드는 마스터드 씨드와 비슷한 향을 내며, 피넛은 고소한 맛을 줄 수 있습니다.\n",
      "\n",
      "코리앤더: 코리앤더 대신에 파슬리나 생페퍼민트를 사용할 수 있습니다. 파슬리는 코리앤더와 비슷한 신선한 풀 향을 내며, 생페퍼민트는 상큼한 맛을 줄 수 있습니다.\n",
      "\n",
      "큐민: 큐민은 대체하기 어려운 향신료이므로 그대로 사용하는 것이 좋습니다.\n",
      "\n",
      "고추가루: 고추가루 대신에 피망 파우더나 헤레사 파우더를 사용할 수 있습니다. 피망 파우더는 고추가루와 비슷한 색과 향을 내며, 헤레사 파우더는 향신료 믹스로 다양한 맛을 줄 수 있습니다.\n",
      "\n",
      "고운 소금: 고운 소금 대신에 허브 솔트나 바다 소금을 사용할 수 있습니다. 허브 솔트는 허브를 갈아서 만든 소금으로 풍미를 더해주며, 바다 소금은 고운 소금보다 미네랄이 풍부하여 건강에 좋습니다.\n",
      "\n",
      "인도 요리를 준비할 때 이 대안 재료들을 활용하여 향신료의 맛과 향을 즐기며, 즐거운 채식 요리 시간을 보내시길 바랍니다."
     ]
    },
    {
     "data": {
      "text/plain": [
       "AIMessageChunk(content='인도 음식을 즐기면서 채식주의자인 당신도 즐길 수 있는 대안 재료와 조리법을 알아보겠습니다.\\n\\n고추: 대신에 고추를 사용할 수 있는 대안은 고추 페이스트나 고추 분말입니다. 고추 페이스트는 신선한 고추를 갈아 만든 것이며, 고추 분말은 건조된 고추를 갈아 만든 것입니다. 양념의 매운맛을 조절하고 싶다면 조금씩 넣어가며 맛을 조절해보세요.\\n\\n생강: 생강의 대체재료로는 생강 가루나 생강 페이스트를 사용할 수 있습니다. 생강 가루는 건조된 생강을 갈아 만든 것이며, 생강 페이스트는 신선한 생강을 갈아 만든 것입니다. 양념에 풍미를 더해주는 역할을 합니다.\\n\\n마스터드 씨드: 마스터드 씨드 대신에 씨앗 중에는 셀러리 씨드나 피넛을 사용할 수 있습니다. 셀러리 씨드는 마스터드 씨드와 비슷한 향을 내며, 피넛은 고소한 맛을 줄 수 있습니다.\\n\\n코리앤더: 코리앤더 대신에 파슬리나 생페퍼민트를 사용할 수 있습니다. 파슬리는 코리앤더와 비슷한 신선한 풀 향을 내며, 생페퍼민트는 상큼한 맛을 줄 수 있습니다.\\n\\n큐민: 큐민은 대체하기 어려운 향신료이므로 그대로 사용하는 것이 좋습니다.\\n\\n고추가루: 고추가루 대신에 피망 파우더나 헤레사 파우더를 사용할 수 있습니다. 피망 파우더는 고추가루와 비슷한 색과 향을 내며, 헤레사 파우더는 향신료 믹스로 다양한 맛을 줄 수 있습니다.\\n\\n고운 소금: 고운 소금 대신에 허브 솔트나 바다 소금을 사용할 수 있습니다. 허브 솔트는 허브를 갈아서 만든 소금으로 풍미를 더해주며, 바다 소금은 고운 소금보다 미네랄이 풍부하여 건강에 좋습니다.\\n\\n인도 요리를 준비할 때 이 대안 재료들을 활용하여 향신료의 맛과 향을 즐기며, 즐거운 채식 요리 시간을 보내시길 바랍니다.')"
      ]
     },
     "execution_count": 18,
     "metadata": {},
     "output_type": "execute_result"
    }
   ],
   "source": [
    "veg_chef_prompt = ChatPromptTemplate.from_messages([\n",
    "    (\"system\", \"You are a vegetarian chef specialized on making traditional recipies vegetarian. You find alternative ingredients and explain their preparation. You don't radically modify the recipe. If there is no alternative for a food just say you don't know how to replace it. 답변은 한국어로 합니다. 읽기 편하도록 줄을 바꾸어 보여주세요.\"),\n",
    "    (\"human\", \"{recipe}\")\n",
    "])\n",
    "\n",
    "veg_chef_chain = veg_chef_prompt | chat\n",
    "\n",
    "final_chain = {\"recipe\": chef_chain} | veg_chef_chain\n",
    "\n",
    "final_chain.invoke({\n",
    "    \"cuisine\": \"indian\"\n",
    "})"
   ]
  },
  {
   "cell_type": "code",
   "execution_count": null,
   "metadata": {},
   "outputs": [],
   "source": []
  }
 ],
 "metadata": {
  "kernelspec": {
   "display_name": "venv",
   "language": "python",
   "name": "python3"
  },
  "language_info": {
   "codemirror_mode": {
    "name": "ipython",
    "version": 3
   },
   "file_extension": ".py",
   "mimetype": "text/x-python",
   "name": "python",
   "nbconvert_exporter": "python",
   "pygments_lexer": "ipython3",
   "version": "3.10.0"
  }
 },
 "nbformat": 4,
 "nbformat_minor": 2
}
